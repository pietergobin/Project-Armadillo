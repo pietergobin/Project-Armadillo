{
 "cells": [
  {
   "cell_type": "markdown",
   "metadata": {},
   "source": [
    "This script can be used to perform the method of Dudewicz and Dallal"
   ]
  },
  {
   "cell_type": "code",
   "execution_count": 1,
   "metadata": {},
   "outputs": [],
   "source": [
    "# First we'll calculate the different d* values\n",
    "\n",
    "import numpy as np\n",
    "import pandas as pd"
   ]
  },
  {
   "cell_type": "code",
   "execution_count": 17,
   "metadata": {},
   "outputs": [],
   "source": [
    "paths = list()\n",
    "paths.append(\"output/(3,2)Comparative new/performance.csv\")\n",
    "paths.append(\"output/(3,2)Comparative upgrade/performance.csv\")\n",
    "#paths.append(\"output/(3,3)Comparative upgrade/performance.csv\")\n",
    "#paths.append(\"output/(4,2)Comparative new/performance.csv\")\n",
    "paths.append(\"output/(4,2)Comparative upgrade/performance.csv\")\n",
    "paths.append(\"output/(5,2)Comparative upgrade/performance.csv\")\n",
    "paths.append(\"output/(2,2)upgrade/performance.csv\")\n",
    "paths.append(\"output/(2,2) new/performance.csv\")\n"
   ]
  },
  {
   "cell_type": "code",
   "execution_count": 18,
   "metadata": {},
   "outputs": [
    {
     "name": "stdout",
     "output_type": "stream",
     "text": [
      "[-2.302347701852932, -2.4697884482828676, -2.273125476124883, -2.144406440968994, -2.8405927592685485, -2.665354011567485]\n"
     ]
    }
   ],
   "source": [
    "means = list()\n",
    "for element in paths:\n",
    "    dataframe = pd.read_csv(element)\n",
    "    dataframe = dataframe[\"objective function\"]\n",
    "    means.append(np.mean(dataframe))\n",
    "print(means)\n"
   ]
  },
  {
   "cell_type": "code",
   "execution_count": 19,
   "metadata": {},
   "outputs": [],
   "source": [
    "means.sort()\n",
    "difference = means[1] - means[0]\n",
    "dstar_10 = (difference / 10)\n",
    "dstar_5 = (difference / 5)\n",
    "dstar_15 = (difference / 15)\n",
    "dstar_2 = (difference / 2)\n",
    "\n",
    "#select error margin\n",
    "dstar = dstar_15"
   ]
  },
  {
   "cell_type": "markdown",
   "metadata": {},
   "source": [
    "Now we can calculate N(i)"
   ]
  },
  {
   "cell_type": "code",
   "execution_count": 20,
   "metadata": {},
   "outputs": [],
   "source": [
    "means = list()\n",
    "var = list()\n",
    "n_0 = 20\n",
    "\n",
    "for element in paths:\n",
    "    dataframe = pd.read_csv(element)\n",
    "    dataframe = dataframe[\"objective function\"]\n",
    "    dataframe = dataframe.iloc[0:n_0,]\n",
    "    means.append(np.mean(dataframe))\n",
    "    var.append(np.var(dataframe)*(n_0/(n_0-1))) #set denominator right (has to be 1/(n_0-1), not 1/n_0)"
   ]
  },
  {
   "cell_type": "code",
   "execution_count": 21,
   "metadata": {},
   "outputs": [
    {
     "name": "stdout",
     "output_type": "stream",
     "text": [
      "189.0\n",
      "380.0\n",
      "189.0\n",
      "281.0\n",
      "415.0\n",
      "371.0\n",
      "[189.0, 380.0, 189.0, 281.0, 415.0, 371.0]\n"
     ]
    }
   ],
   "source": [
    "N_i = list()\n",
    "\n",
    "h_1_constant = 2.870\n",
    "pstar = 0.90\n",
    "\n",
    "for element in range(len(means)):\n",
    "    factor2 = np.ceil(((h_1_constant**2)*(var[element]))/(dstar**2))\n",
    "    factor1 = n_0 + 1\n",
    "    print(factor2)\n",
    "    N_i.append(max(factor1, factor2))\n",
    "print(N_i)\n",
    "\n",
    "#paths = list()\n",
    "#paths.append(\"/Users/afribo/Desktop/Project-Armadillo/output/(3,2)Comparative new/performance.csv\")\n",
    "#paths.append(\"/Users/afribo/Desktop/Project-Armadillo/output/(3,2)Comparative upgrade/performance.csv\")\n",
    "#paths.append(\"/Users/afribo/Desktop/Project-Armadillo/output/(3,3)Comparative upgrade/performance.csv\")\n",
    "#paths.append(\"/Users/afribo/Desktop/Project-Armadillo/output/(4,2)Comparative new/performance.csv\")\n",
    "#paths.append(\"/Users/afribo/Desktop/Project-Armadillo/output/(4,2)Comparative upgrade/performance.csv\")\n",
    "#paths.append(\"/Users/afribo/Desktop/Project-Armadillo/output/(5,2)Comparative upgrade/performance.csv\")"
   ]
  },
  {
   "cell_type": "markdown",
   "metadata": {},
   "source": [
    "Second stage"
   ]
  },
  {
   "cell_type": "code",
   "execution_count": 34,
   "metadata": {},
   "outputs": [],
   "source": [
    "paths = list()\n",
    "paths.append(\"/Users/afribo/Desktop/DD output/(3,2) DD Comparative new/performance.csv\")\n",
    "paths.append(\"/Users/afribo/Desktop/DD output/(3,2) DD Comparative upgrade/performance.csv\")\n",
    "paths.append(\"/Users/afribo/Desktop/DD output/(3,3) DD Comparative upgrade/performance.csv\")\n",
    "paths.append(\"/Users/afribo/Desktop/DD output/(4,2) DD Comparative new/performance.csv\")\n",
    "paths.append(\"/Users/afribo/Desktop/DD output/(4,2) DD Comparative upgrade/performance.csv\")\n",
    "paths.append(\"/Users/afribo/Desktop/DD output/(5,2) DD Comparative upgrade/performance.csv\")"
   ]
  },
  {
   "cell_type": "code",
   "execution_count": 35,
   "metadata": {},
   "outputs": [],
   "source": [
    "means2 = list()\n",
    "count = 0\n",
    "\n",
    "for element in paths:\n",
    "    dataframe = pd.read_csv(element)\n",
    "    dataframe = dataframe[\"objective function\"]\n",
    "    dataframe = dataframe.iloc[20:,]\n",
    "    means2.append(np.mean(dataframe))\n",
    "    count += 1"
   ]
  },
  {
   "cell_type": "code",
   "execution_count": 36,
   "metadata": {},
   "outputs": [
    {
     "data": {
      "text/plain": [
       "[-2.2969538196404438,\n",
       " -2.462477574629407,\n",
       " -2.087541529148906,\n",
       " -2.0965832867695333,\n",
       " -2.2777087963318627,\n",
       " -2.142971852108628]"
      ]
     },
     "execution_count": 36,
     "metadata": {},
     "output_type": "execute_result"
    }
   ],
   "source": [
    "means2"
   ]
  },
  {
   "cell_type": "code",
   "execution_count": 37,
   "metadata": {
    "scrolled": true
   },
   "outputs": [],
   "source": [
    "weight1 = list()\n",
    "weight2 = list()\n",
    "\n",
    "## nog fout in\n",
    "for element in range(len(means2)):\n",
    "    N_i[element] \n",
    "    term = 1 - (((N_i[element] - n_0)*(dstar*dstar))/ ((h_1_constant*h_1_constant)*(var[element])))\n",
    "    term2 = 1 + np.sqrt(1 - (N_i[element]/n_0)*term)\n",
    "    w_i = (n_0/N_i[element])*term2\n",
    "    weight1.append(w_i)\n",
    "    weight2.append(1- w_i)"
   ]
  },
  {
   "cell_type": "code",
   "execution_count": 38,
   "metadata": {},
   "outputs": [
    {
     "name": "stdout",
     "output_type": "stream",
     "text": [
      "[2.242661796026442, 1.6297017407426286, 1.7260589349619757, 2.1975932634431112, 2.2427241822521506, 1.8787219629075502]\n",
      "[-1.2426617960264421, -0.6297017407426286, -0.7260589349619757, -1.1975932634431112, -1.2427241822521506, -0.8787219629075502]\n"
     ]
    }
   ],
   "source": [
    "print(weight1)\n",
    "print(weight2)"
   ]
  },
  {
   "cell_type": "code",
   "execution_count": 42,
   "metadata": {},
   "outputs": [
    {
     "name": "stdout",
     "output_type": "stream",
     "text": [
      "-5.130892006918698\n",
      "2.85433675890419\n",
      "-4.044025762076249\n",
      "1.5506264152838238\n",
      "-3.623498502741102\n",
      "1.5156781793427487\n",
      "-4.648082952290901\n",
      "2.5108540204826095\n",
      "-5.089239992158223\n",
      "2.8305638013300443\n",
      "-4.031929229162077\n",
      "1.8830764323405218\n"
     ]
    }
   ],
   "source": [
    "results = list()\n",
    "for element in range(len(means)):\n",
    "    print(weight1[element]*means[element])\n",
    "    print(weight2[element]*means2[element])\n",
    "    results.append(weight1[element]*means[element] + weight2[element]*means2[element])"
   ]
  },
  {
   "cell_type": "code",
   "execution_count": 40,
   "metadata": {},
   "outputs": [
    {
     "data": {
      "text/plain": [
       "[200.38135463418303,\n",
       " 251.80933275975468,\n",
       " 214.6341593226147,\n",
       " 188.68767662487005,\n",
       " 198.71135370360497,\n",
       " 216.28801335467898]"
      ]
     },
     "execution_count": 40,
     "metadata": {},
     "output_type": "execute_result"
    }
   ],
   "source": [
    "results"
   ]
  },
  {
   "cell_type": "code",
   "execution_count": null,
   "metadata": {},
   "outputs": [],
   "source": []
  }
 ],
 "metadata": {
  "kernelspec": {
   "display_name": "Python 3",
   "language": "python",
   "name": "python3"
  },
  "language_info": {
   "codemirror_mode": {
    "name": "ipython",
    "version": 3
   },
   "file_extension": ".py",
   "mimetype": "text/x-python",
   "name": "python",
   "nbconvert_exporter": "python",
   "pygments_lexer": "ipython3",
   "version": "3.7.4"
  }
 },
 "nbformat": 4,
 "nbformat_minor": 2
}