{
 "cells": [
  {
   "cell_type": "markdown",
   "metadata": {},
   "source": [
    "This file aims to construct a pairwise paired-t and welch table for comparison of systems of a simulation problem\n"
   ]
  },
  {
   "cell_type": "code",
   "execution_count": null,
   "metadata": {
    "pycharm": {
     "name": "#%%\n"
    }
   },
   "outputs": [],
   "source": [
    "#Just imports\n",
    "\n",
    "from scipy import stats\n",
    "import pandas as pd\n",
    "import numpy as np\n",
    "import math"
   ]
  },
  {
   "cell_type": "code",
   "execution_count": null,
   "metadata": {
    "pycharm": {
     "name": "#%%\n"
    }
   },
   "outputs": [],
   "source": [
    "def confidence_intervals(x,y, alpha = 0.0076923):\n",
    "    \"\"\"In this function we compute both the Welch and Paired T confidence intervals of significant differences of means\n",
    "    of the supplied x and Y Series. Do note that we see x as the baseline and y as the new system, as the calculation\n",
    "    below goes with x.mean - y.mean.\n",
    "    The function returns an array of length two with as first entry the confidence interval according to welch and as \n",
    "    the second entry the confidence interval according to the paired-t test\"\"\"\n",
    "\n",
    "    #WELCH\n",
    "    ## Welch-Satterthwaite Degrees of Freedom ##\n",
    "    dof = (x.var()/x.size + y.var()/y.size)**2 / ((x.var()/x.size)**2 / (x.size-1) + (y.var()/y.size)**2 / (y.size-1))\n",
    "    lower_welch =x.mean()-y.mean()-stats.t.ppf(1-alpha/2, dof)*math.sqrt((x.var()/x.size) +(y.var()/y.size))\n",
    "    upper_welch =x.mean()-y.mean()+stats.t.ppf(1-alpha/2, dof)*math.sqrt((x.var()/x.size) +(y.var()/y.size))\n",
    "\n",
    "    results_welch = [lower_welch, upper_welch]\n",
    "\n",
    "    #PAIRED - T\n",
    "    paired_t_data = x - y #simulation - baseline\n",
    "    half_width = (stats.t.ppf(1-alpha/2, paired_t_data.size)*paired_t_data.var())/np.sqrt(paired_t_data.size)\n",
    "    barbar = x.mean() - y.mean()\n",
    "    lower_paired_t = barbar - half_width\n",
    "    upper_paired_t = barbar + half_width\n",
    "\n",
    "    results_paired_t = [lower_paired_t, upper_paired_t]\n",
    "\n",
    "    #return the two results arrays\n",
    "    return [results_welch, results_paired_t]\n",
    "\n",
    "\n"
   ]
  },
  {
   "cell_type": "code",
   "execution_count": null,
   "metadata": {
    "pycharm": {
     "name": "#%%\n"
    }
   },
   "outputs": [],
   "source": [
    "#We read in all the systems to investigate in order to quickly access the folders relating to them in the next step\n",
    "systems = [\"(3,2)Comparative new\", \"(3,2)Comparative upgrade\", \"(3,3)Comparative new\", \"(3,3)Comparative upgrade\",\n",
    "               \"(4,2)Comparative new\",\"(4,2)Comparative upgrade\",\"(4,3)Comparative new\",\"(4,3)Comparative upgrade\",\n",
    "               \"(5,2)Comparative new\",\"(5,2)Comparative upgrade\",\"(5,3)Comparative new\",\"(5,3)Comparative upgrade\"]\n"
   ]
  },
  {
   "cell_type": "code",
   "execution_count": null,
   "metadata": {
    "pycharm": {
     "name": "#%%\n"
    }
   },
   "outputs": [],
   "source": [
    "#We first construct two symetrical empty dataframes with the systems as columns and rows\n",
    "pairwise_welch = pd.DataFrame(columns = systems, index= systems)\n",
    "pairwise_paired_t = pd.DataFrame(columns = systems, index = systems)\n",
    "\n",
    "#We loop through all the systems to select a system to compare with the others\n",
    "for x_name in systems:\n",
    "    #make a copy of the systems in order to be able to remove the current system(x_name) from the system list \n",
    "    comp_systems = systems.copy()\n",
    "    comp_systems.remove(x_name)\n",
    "    #read in our current system (x) and select the relevant performance measure making it a series object\n",
    "    x = pd.read_csv(\"output/\"+x_name+\"/performance.csv\")\n",
    "    x = x['objective function']\n",
    "    \n",
    "    #loop through the systems - x list to compare x with all the other systems(comp_systems)\n",
    "    for y_name in comp_systems:\n",
    "        #read in the y data and select the relevant performance measure\n",
    "        y = pd.read_csv(\"output/\"+y_name+\"/performance.csv\")\n",
    "        y = y[\"objective function\"]\n",
    "        #apply the confidence intervals function, explained above\n",
    "        results = confidence_intervals(x,y)\n",
    "\n",
    "        #at row = baseline system (x) and column = new system (y) we insert the intervals according to both methods\n",
    "        pairwise_welch.at[x_name, y_name] = results[0]\n",
    "        pairwise_paired_t.at[x_name, y_name] = results[1]\n",
    "\n",
    "#to aid in readability, we delete the lower half of our symmetrical dataframe and replace it with NaN as these values\n",
    "# are redundant\n",
    "pairwise_welch.values[np.tril_indices_from(pairwise_welch, 0)] = np.nan\n",
    "pairwise_paired_t.values[np.tril_indices_from(pairwise_paired_t, 0)] = np.nan\n",
    "\n",
    "#export to csv files in the comparative folder\n",
    "pairwise_welch.to_csv(\"comparative/pairwise welch.csv\")\n",
    "pairwise_paired_t.to_csv(\"comparative/pairwise paired-t.csv\")\n",
    "\n"
   ]
  }
 ],
 "metadata": {
  "kernelspec": {
   "display_name": "Python 3",
   "language": "python",
   "name": "python3"
  }
 },
 "nbformat": 4,
 "nbformat_minor": 1
}