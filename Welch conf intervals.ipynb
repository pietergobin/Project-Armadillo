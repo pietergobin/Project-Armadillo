{
 "cells": [
  {
   "cell_type": "markdown",
   "metadata": {},
   "source": [
    "This script is made to calculate Welch's T-test in order to calculate confidence intervals of a comparison of simulation runs\n"
   ]
  },
  {
   "cell_type": "code",
   "execution_count": 5,
   "metadata": {
    "scrolled": true
   },
   "outputs": [],
   "source": [
    "import pandas as pd\n",
    "import numpy as np\n",
    "\n",
    "simulation_folder_name = \"(5,2)comparative new\" #dit moet je aanpassen\n",
    "baseline_folder_name = \"Baseline\"\n",
    "baseline = pd.read_csv(\"output/\"+baseline_folder_name+\"/performance.csv\")\n",
    "simulation = pd.read_csv(\"output/\"+simulation_folder_name+\"/performance.csv\")"
   ]
  },
  {
   "cell_type": "markdown",
   "metadata": {},
   "source": [
    "After the imports, we declare the code for a welch interval calculation"
   ]
  },
  {
   "cell_type": "code",
   "execution_count": 6,
   "metadata": {},
   "outputs": [],
   "source": [
    "def welch_conf(x,y, add_csv = True, display_print = False, alpha = 0.05): \n",
    "    from scipy import stats\n",
    "    import math\n",
    "    \n",
    "    results = pd.DataFrame({'lower_bound':[], 'upper_bound':[]})\n",
    "    ## Welch-Satterthwaite Degrees of Freedom ##\n",
    "    dof = (x.var()/x.size + y.var()/y.size)**2 / ((x.var()/x.size)**2 / (x.size-1) + (y.var()/y.size)**2 / (y.size-1))\n",
    "    lower=x.mean()-y.mean()-stats.t.ppf(1-alpha/2, dof)*math.sqrt((x.var()/x.size) +(y.var()/y.size))\n",
    "    upper=x.mean()-y.mean()+stats.t.ppf(1-alpha/2, dof)*math.sqrt((x.var()/x.size) +(y.var()/y.size))\n",
    "    \n",
    "    if display_print:\n",
    "        print(\"\\n\",\n",
    "              f\"lower bound= {lower:.4f}\", \"\\n\",\n",
    "              f\"upper bound = {upper:.4f}\", \"\\n\",\n",
    "              f\"Welch-Satterthwaite Degrees of Freedom= {dof:.4f}\")\n",
    "    if add_csv:\n",
    "        results['lower_bound'] = [lower]\n",
    "        results['upper_bound'] = [upper]\n",
    "        results['name'] = [simulation_folder_name]\n",
    "        results.to_csv(\"results comparative.csv\", mode='a', header=False)"
   ]
  },
  {
   "cell_type": "markdown",
   "metadata": {},
   "source": [
    "Next we will run the confidence interval"
   ]
  },
  {
   "cell_type": "code",
   "execution_count": 7,
   "metadata": {},
   "outputs": [],
   "source": [
    "welch_conf(baseline['objective function'], simulation['objective function'])"
   ]
  },
  {
   "cell_type": "code",
   "execution_count": 8,
   "metadata": {},
   "outputs": [
    {
     "data": {
      "text/html": [
       "<div>\n",
       "<style scoped>\n",
       "    .dataframe tbody tr th:only-of-type {\n",
       "        vertical-align: middle;\n",
       "    }\n",
       "\n",
       "    .dataframe tbody tr th {\n",
       "        vertical-align: top;\n",
       "    }\n",
       "\n",
       "    .dataframe thead th {\n",
       "        text-align: right;\n",
       "    }\n",
       "</style>\n",
       "<table border=\"1\" class=\"dataframe\">\n",
       "  <thead>\n",
       "    <tr style=\"text-align: right;\">\n",
       "      <th></th>\n",
       "      <th></th>\n",
       "      <th></th>\n",
       "      <th>0,30.838438181708483,32.476083114530034,\"(3,3)Comparative new\"</th>\n",
       "    </tr>\n",
       "  </thead>\n",
       "  <tbody>\n",
       "    <tr>\n",
       "      <th rowspan=\"5\" valign=\"top\">0</th>\n",
       "      <th>30.985776</th>\n",
       "      <th>32.623610</th>\n",
       "      <td>(3,3)Comparative upgrade</td>\n",
       "    </tr>\n",
       "    <tr>\n",
       "      <th>30.274182</th>\n",
       "      <th>32.222364</th>\n",
       "      <td>(4,3)comparative new</td>\n",
       "    </tr>\n",
       "    <tr>\n",
       "      <th>30.393021</th>\n",
       "      <th>32.341141</th>\n",
       "      <td>(4,3)comparative Upgrade</td>\n",
       "    </tr>\n",
       "    <tr>\n",
       "      <th>30.645201</th>\n",
       "      <th>32.593633</th>\n",
       "      <td>(5,2)comparative upgrade</td>\n",
       "    </tr>\n",
       "    <tr>\n",
       "      <th>30.482275</th>\n",
       "      <th>32.430650</th>\n",
       "      <td>(5,2)comparative new</td>\n",
       "    </tr>\n",
       "  </tbody>\n",
       "</table>\n",
       "</div>"
      ],
      "text/plain": [
       "                      0,30.838438181708483,32.476083114530034,\"(3,3)Comparative new\"\n",
       "0 30.985776 32.623610                           (3,3)Comparative upgrade            \n",
       "  30.274182 32.222364                               (4,3)comparative new            \n",
       "  30.393021 32.341141                           (4,3)comparative Upgrade            \n",
       "  30.645201 32.593633                           (5,2)comparative upgrade            \n",
       "  30.482275 32.430650                               (5,2)comparative new            "
      ]
     },
     "execution_count": 8,
     "metadata": {},
     "output_type": "execute_result"
    }
   ],
   "source": [
    "df = pd.read_csv(\"results comparative.csv\")\n",
    "df.head()"
   ]
  }
 ],
 "metadata": {
  "kernelspec": {
   "display_name": "Python 3",
   "language": "python",
   "name": "python3"
  },
  "language_info": {
   "codemirror_mode": {
    "name": "ipython",
    "version": 3
   },
   "file_extension": ".py",
   "mimetype": "text/x-python",
   "name": "python",
   "nbconvert_exporter": "python",
   "pygments_lexer": "ipython3",
   "version": "3.7.6"
  }
 },
 "nbformat": 4,
 "nbformat_minor": 2
}
