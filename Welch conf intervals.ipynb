{
 "cells": [
  {
   "cell_type": "markdown",
   "metadata": {},
   "source": [
    "This script is made to calculate Welch's T-test in order to calculate confidence intervals of a comparison of simulation runs\n"
   ]
  },
  {
   "cell_type": "code",
   "execution_count": 25,
   "metadata": {},
   "outputs": [],
   "source": [
    "import pandas as pd\n",
    "import numpy as np\n",
    "\n",
    "simulation_folder_name = \"(3,3)  comparative upgrade\"\n",
    "baseline_folder_name = \"baseline 150\"\n",
    "baseline = pd.read_excel(\"output/\"+baseline_folder_name+\"/Current_System.xlsx\")\n",
    "simulation = pd.read_csv(\"output/\"+simulation_folder_name+\"/performance.csv\")"
   ]
  },
  {
   "cell_type": "markdown",
   "metadata": {},
   "source": [
    "After the imports, we declare the code for a welch interval calculation"
   ]
  },
  {
   "cell_type": "code",
   "execution_count": 27,
   "metadata": {},
   "outputs": [],
   "source": [
    "def welch_conf(x,y, add_csv = True, display_print = False, alpha = 0.05): \n",
    "    from scipy import stats\n",
    "    import math\n",
    "    \n",
    "    results = pd.DataFrame({'lower_bound':[], 'upper_bound':[]})\n",
    "    ## Welch-Satterthwaite Degrees of Freedom ##\n",
    "    dof = (x.var()/x.size + y.var()/y.size)**2 / ((x.var()/x.size)**2 / (x.size-1) + (y.var()/y.size)**2 / (y.size-1))\n",
    "    lower=x.mean()-y.mean()-stats.t.ppf(1-alpha/2, dof)*math.sqrt((x.var()/x.size) +(y.var()/y.size))\n",
    "    upper=x.mean()-y.mean()+stats.t.ppf(1-alpha/2, dof)*math.sqrt((x.var()/x.size) +(y.var()/y.size))\n",
    "    \n",
    "    if display_print:\n",
    "        print(\"\\n\",\n",
    "              f\"lower bound= {lower:.4f}\", \"\\n\",\n",
    "              f\"upper bound = {upper:.4f}\", \"\\n\",\n",
    "              f\"Welch-Satterthwaite Degrees of Freedom= {dof:.4f}\")\n",
    "    if add_csv:\n",
    "        results['lower_bound'] = [lower]\n",
    "        results['upper_bound'] = [upper]\n",
    "        results.to_csv(\"results comparative.csv\", mode='a', header=False)"
   ]
  },
  {
   "cell_type": "markdown",
   "metadata": {},
   "source": [
    "Next we will run the confidence interval"
   ]
  },
  {
   "cell_type": "code",
   "execution_count": 28,
   "metadata": {},
   "outputs": [],
   "source": [
    "welch_conf(baseline['objective function'], simulation['objective function'])"
   ]
  }
 ],
 "metadata": {
  "kernelspec": {
   "display_name": "Python 3",
   "language": "python",
   "name": "python3"
  },
  "language_info": {
   "codemirror_mode": {
    "name": "ipython",
    "version": 3
   },
   "file_extension": ".py",
   "mimetype": "text/x-python",
   "name": "python",
   "nbconvert_exporter": "python",
   "pygments_lexer": "ipython3",
   "version": "3.7.4"
  }
 },
 "nbformat": 4,
 "nbformat_minor": 2
}
