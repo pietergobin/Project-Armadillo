{
 "cells": [
  {
   "cell_type": "markdown",
   "metadata": {},
   "source": [
    "This script is made to calculate Welch's T-test in order to calculate confidence intervals of a comparison of simulation runs\n"
   ]
  },
  {
   "cell_type": "code",
   "execution_count": 52,
   "metadata": {},
   "outputs": [],
   "source": [
    "import pandas as pd\n",
    "import numpy as np\n",
    "\n",
    "#(5,2)  comparative upgrade\n",
    "#(5,2) comparative new\n",
    "simulation_folder_name = \"(5,2) comparative new\"\n",
    "baseline_folder_name = \"baseline 150\"\n",
    "baseline = pd.read_excel(\"output/\"+baseline_folder_name+\"/Current_System.xlsx\")\n",
    "simulation = pd.read_csv(\"output/\"+simulation_folder_name+\"/performance.csv\")"
   ]
  },
  {
   "cell_type": "markdown",
   "metadata": {},
   "source": [
    "After the imports, we declare the code for a welch interval calculation"
   ]
  },
  {
   "cell_type": "code",
   "execution_count": 53,
   "metadata": {},
   "outputs": [],
   "source": [
    "def welch_conf(x,y, add_csv = True, display_print = False, alpha = 0.05): \n",
    "    from scipy import stats\n",
    "    import math\n",
    "    \n",
    "    results = pd.DataFrame({'run':[],'lower_bound':[], 'upper_bound':[]})\n",
    "    ## Welch-Satterthwaite Degrees of Freedom ##\n",
    "    dof = (x.var()/x.size + y.var()/y.size)**2 / ((x.var()/x.size)**2 / (x.size-1) + (y.var()/y.size)**2 / (y.size-1))\n",
    "    lower=x.mean()-y.mean()-stats.t.ppf(1-alpha/2, dof)*math.sqrt((x.var()/x.size) +(y.var()/y.size))\n",
    "    upper=x.mean()-y.mean()+stats.t.ppf(1-alpha/2, dof)*math.sqrt((x.var()/x.size) +(y.var()/y.size))\n",
    "    \n",
    "    if display_print:\n",
    "        print(\"\\n\",\n",
    "              f\"lower bound= {lower:.4f}\", \"\\n\",\n",
    "              f\"upper bound = {upper:.4f}\", \"\\n\",\n",
    "              f\"Welch-Satterthwaite Degrees of Freedom= {dof:.4f}\")\n",
    "    if add_csv:\n",
    "        results['lower_bound'] = [lower]\n",
    "        results['upper_bound'] = [upper]\n",
    "        results['name'] = [simulation_folder_name]\n",
    "        results.to_csv(\"results comparative.csv\", mode='a', header=False)"
   ]
  },
  {
   "cell_type": "markdown",
   "metadata": {},
   "source": [
    "Next we will run the confidence interval"
   ]
  },
  {
   "cell_type": "code",
   "execution_count": 54,
   "metadata": {},
   "outputs": [],
   "source": [
    "welch_conf(baseline['objective function'], simulation['objective function'])"
   ]
  },
  {
   "cell_type": "code",
   "execution_count": 55,
   "metadata": {},
   "outputs": [
    {
     "data": {
      "text/html": [
       "<div>\n",
       "<style scoped>\n",
       "    .dataframe tbody tr th:only-of-type {\n",
       "        vertical-align: middle;\n",
       "    }\n",
       "\n",
       "    .dataframe tbody tr th {\n",
       "        vertical-align: top;\n",
       "    }\n",
       "\n",
       "    .dataframe thead th {\n",
       "        text-align: right;\n",
       "    }\n",
       "</style>\n",
       "<table border=\"1\" class=\"dataframe\">\n",
       "  <thead>\n",
       "    <tr style=\"text-align: right;\">\n",
       "      <th></th>\n",
       "      <th>Unnamed: 0</th>\n",
       "      <th>run</th>\n",
       "      <th>lower_bound</th>\n",
       "      <th>upper_bound</th>\n",
       "      <th>name</th>\n",
       "    </tr>\n",
       "  </thead>\n",
       "  <tbody>\n",
       "    <tr>\n",
       "      <th>0</th>\n",
       "      <td>0</td>\n",
       "      <td>NaN</td>\n",
       "      <td>30.568069</td>\n",
       "      <td>31.408520</td>\n",
       "      <td>(5,2)  comparative upgrade</td>\n",
       "    </tr>\n",
       "    <tr>\n",
       "      <th>1</th>\n",
       "      <td>0</td>\n",
       "      <td>NaN</td>\n",
       "      <td>30.394125</td>\n",
       "      <td>31.233976</td>\n",
       "      <td>(5,2) comparative new</td>\n",
       "    </tr>\n",
       "  </tbody>\n",
       "</table>\n",
       "</div>"
      ],
      "text/plain": [
       "   Unnamed: 0  run  lower_bound  upper_bound                        name\n",
       "0           0  NaN    30.568069    31.408520  (5,2)  comparative upgrade\n",
       "1           0  NaN    30.394125    31.233976       (5,2) comparative new"
      ]
     },
     "execution_count": 55,
     "metadata": {},
     "output_type": "execute_result"
    }
   ],
   "source": [
    "df = pd.read_csv(\"results comparative.csv\")\n",
    "df.head()"
   ]
  }
 ],
 "metadata": {
  "kernelspec": {
   "display_name": "Python 3",
   "language": "python",
   "name": "python3"
  },
  "language_info": {
   "codemirror_mode": {
    "name": "ipython",
    "version": 3
   },
   "file_extension": ".py",
   "mimetype": "text/x-python",
   "name": "python",
   "nbconvert_exporter": "python",
   "pygments_lexer": "ipython3",
   "version": "3.7.6"
  }
 },
 "nbformat": 4,
 "nbformat_minor": 2
}
