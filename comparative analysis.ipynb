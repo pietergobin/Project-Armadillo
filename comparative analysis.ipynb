{
 "cells": [
  {
   "cell_type": "markdown",
   "metadata": {},
   "source": [
    "This script is made to calculate Welch's T-test in order to calculate confidence intervals of a comparison of simulation runs\n"
   ]
  },
  {
   "cell_type": "code",
   "execution_count": 4,
   "metadata": {
    "scrolled": true
   },
   "outputs": [],
   "source": [
    "import os\n",
    "from pathlib import Path\n",
    "import pandas as pd\n",
    "import numpy as np\n",
    "\n",
    "simulation_folder_name = \"(5,2)Comparative new\" #dit moet je aanpassen\n",
    "baseline_folder_name = \"Baseline\"\n",
    "baseline = pd.read_csv(\"output/\"+baseline_folder_name+\"/performance.csv\")\n",
    "simulation = pd.read_csv(\"output/\"+simulation_folder_name+\"/performance.csv\")\n",
    "\n",
    "output_path = Path(\"comparative\")\n",
    "try:\n",
    "    os.makedirs(output_path, exist_ok=True)\n",
    "except OSError as error:\n",
    "    print(error)"
   ]
  },
  {
   "cell_type": "markdown",
   "metadata": {},
   "source": [
    "After the imports, we declare the code for a welch interval calculation"
   ]
  },
  {
   "cell_type": "code",
   "execution_count": 5,
   "metadata": {},
   "outputs": [],
   "source": [
    "def welch_conf(x,y, add_csv = True, display_print = False, alpha = 0.0076923):\n",
    "    from scipy import stats\n",
    "    import math\n",
    "    \n",
    "    results = pd.DataFrame({'lower_bound':[], 'upper_bound':[]})\n",
    "    ## Welch-Satterthwaite Degrees of Freedom ##\n",
    "    dof = (x.var()/x.size + y.var()/y.size)**2 / ((x.var()/x.size)**2 / (x.size-1) + (y.var()/y.size)**2 / (y.size-1))\n",
    "    lower=x.mean()-y.mean()-stats.t.ppf(1-alpha/2, dof)*math.sqrt((x.var()/x.size) +(y.var()/y.size))\n",
    "    upper=x.mean()-y.mean()+stats.t.ppf(1-alpha/2, dof)*math.sqrt((x.var()/x.size) +(y.var()/y.size))\n",
    "    \n",
    "    if display_print:\n",
    "        print(\"\\n\",\n",
    "              f\"lower bound= {lower:.4f}\", \"\\n\",\n",
    "              f\"upper bound = {upper:.4f}\", \"\\n\",\n",
    "              f\"Welch-Satterthwaite Degrees of Freedom= {dof:.4f}\")\n",
    "    if add_csv:\n",
    "        results['lower_bound'] = [lower]\n",
    "        results['upper_bound'] = [upper]\n",
    "        results['name'] = [simulation_folder_name]\n",
    "        csv_path = output_path/\"results welch.csv\"\n",
    "        results.to_csv(csv_path, mode='a', header=False)\n",
    "\n",
    "def paired_t(x,y, alpha =0.0076923, add_csv = True):\n",
    "    from scipy import stats\n",
    "\n",
    "    results = pd.DataFrame({'lower_bound':[], 'upper_bound':[]})\n",
    "    paired_t_data = x - y #simulation - baseline\n",
    "    half_width = (stats.t.ppf(1-alpha/2, paired_t_data.size)*paired_t_data.var())/np.sqrt(paired_t_data.size)\n",
    "    barbar = x.mean() - y.mean()\n",
    "    lower = barbar - half_width\n",
    "    upper = barbar + half_width\n",
    "    if add_csv:\n",
    "        results['lower_bound'] = [lower]\n",
    "        results['upper_bound'] = [upper]\n",
    "        results['name'] = [simulation_folder_name]\n",
    "        csv_path = output_path/\"results paired-t.csv\"\n",
    "        results.to_csv(csv_path, mode='a', header=False)"
   ]
  },
  {
   "cell_type": "markdown",
   "metadata": {},
   "source": [
    "Next we will run the confidence interval"
   ]
  },
  {
   "cell_type": "code",
   "execution_count": 6,
   "metadata": {
    "pycharm": {
     "name": "#%%\n"
    },
    "scrolled": true
   },
   "outputs": [],
   "source": [
    "welch_conf(baseline['objective function'], simulation['objective function'])\n",
    "\n",
    "paired_t(baseline['objective function'], simulation['objective function'])\n",
    "\n"
   ]
  }
 ],
 "metadata": {
  "kernelspec": {
   "display_name": "Python 3",
   "language": "python",
   "name": "python3"
  },
  "language_info": {
   "codemirror_mode": {
    "name": "ipython",
    "version": 3
   },
   "file_extension": ".py",
   "mimetype": "text/x-python",
   "name": "python",
   "nbconvert_exporter": "python",
   "pygments_lexer": "ipython3",
   "version": "3.7.6"
  }
 },
 "nbformat": 4,
 "nbformat_minor": 2
}