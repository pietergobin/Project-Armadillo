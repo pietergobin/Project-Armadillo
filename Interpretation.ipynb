{
 "cells": [
  {
   "cell_type": "code",
   "execution_count": 32,
   "metadata": {},
   "outputs": [],
   "source": [
    "import pandas as pd\n",
    "import matplotlib.pyplot as plt\n",
    "import seaborn as sns\n",
    "import scipy.stats as stats\n",
    "import numpy as np"
   ]
  },
  {
   "cell_type": "code",
   "execution_count": null,
   "metadata": {},
   "outputs": [],
   "source": [
    "data = pd.read_excel(\"boxplot data.xlsx\", sheet_name = None)\n",
    "data_15 = data.get(\"1,5\")\n",
    "data_18 = data.get(\"1,8\")\n",
    "data_48 = data.get(\"4,8\")\n",
    "data_46 = data.get(\"4,6\")"
   ]
  },
  {
   "cell_type": "code",
   "execution_count": 72,
   "metadata": {},
   "outputs": [
    {
     "name": "stdout",
     "output_type": "stream",
     "text": [
      "[[-8.20336474360901, -7.7436120661875005, -7.2838593887659915], [-12.54764879442063, -12.110815487218748, -11.673982180016866], [-12.658223831909208, -12.251818561281251, -11.845413290653294], [-4.8002575535153476, -4.385107843374999, -3.9699581332346505], [-3.144998261592767, -2.7148774560624997, -2.2847566505322323], [12.03419488786513, 12.516260041749998, 12.998325195634866], [2.110808696155631, 2.55148585125, 2.9921630063443687]]\n"
     ]
    },
    {
     "data": {
      "image/png": "[encoded data removed]",
      "text/plain": [
       "<Figure size 720x720 with 1 Axes>"
      ]
     },
     "metadata": {
      "needs_background": "light"
     },
     "output_type": "display_data"
    }
   ],
   "source": [
    "#for data_15 E1\n",
    "\n",
    "intervallist = []\n",
    "\n",
    "for col in data_15.columns:\n",
    "    data = data_15[col]\n",
    "    mu = data.mean()\n",
    "    sigma = data.std()\n",
    "    k = 1.96\n",
    "\n",
    "    upbound = mu + k*sigma/np.sqrt(32)\n",
    "    lowbound = mu - k*sigma/np.sqrt(32)\n",
    "    # collect difference between sample mean and mu\n",
    "    intervallist.append([lowbound,mu,upbound])\n",
    "\n",
    "    \n",
    "print(intervallist)\n",
    "# set figure size.\n",
    "plt.figure(figsize=(20,20))\n",
    "# plot box plots of each sample mean.\n",
    "plt.boxplot(intervallist)\n",
    "plt.plot([0, 9],[0,0],color='red')\n",
    "\n",
    "# show plot.\n",
    "plt.show()"
   ]
  }
 ],
 "metadata": {
  "kernelspec": {
   "display_name": "Python 3",
   "language": "python",
   "name": "python3"
  },
  "language_info": {
   "codemirror_mode": {
    "name": "ipython",
    "version": 3
   },
   "file_extension": ".py",
   "mimetype": "text/x-python",
   "name": "python",
   "nbconvert_exporter": "python",
   "pygments_lexer": "ipython3",
   "version": "3.7.6"
  },
  "pycharm": {
   "stem_cell": {
    "cell_type": "raw",
    "metadata": {
     "collapsed": false
    },
    "source": []
   }
  }
 },
 "nbformat": 4,
 "nbformat_minor": 1
}
